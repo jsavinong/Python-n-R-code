{
  "cells": [
    {
      "cell_type": "markdown",
      "metadata": {
        "id": "CiWsyLGhvscj"
      },
      "source": [
        "# Hyperparameter Tuning 1"
      ]
    },
    {
      "cell_type": "code",
      "execution_count": null,
      "metadata": {
        "colab": {
          "base_uri": "https://localhost:8080/"
        },
        "id": "3Mfhpd37v1kB",
        "outputId": "6489cbd7-35f6-4f92-aad7-e0f36f845c98"
      },
      "outputs": [
        {
          "name": "stdout",
          "output_type": "stream",
          "text": [
            "\u001b[?25l\r\u001b[K     |▎                               | 10 kB 23.8 MB/s eta 0:00:01\r\u001b[K     |▋                               | 20 kB 27.8 MB/s eta 0:00:01\r\u001b[K     |▉                               | 30 kB 31.4 MB/s eta 0:00:01\r\u001b[K     |█▏                              | 40 kB 7.2 MB/s eta 0:00:01\r\u001b[K     |█▌                              | 51 kB 8.5 MB/s eta 0:00:01\r\u001b[K     |█▊                              | 61 kB 10.0 MB/s eta 0:00:01\r\u001b[K     |██                              | 71 kB 11.3 MB/s eta 0:00:01\r\u001b[K     |██▍                             | 81 kB 12.6 MB/s eta 0:00:01\r\u001b[K     |██▋                             | 92 kB 13.9 MB/s eta 0:00:01\r\u001b[K     |███                             | 102 kB 11.5 MB/s eta 0:00:01\r\u001b[K     |███▏                            | 112 kB 11.5 MB/s eta 0:00:01\r\u001b[K     |███▌                            | 122 kB 11.5 MB/s eta 0:00:01\r\u001b[K     |███▉                            | 133 kB 11.5 MB/s eta 0:00:01\r\u001b[K     |████                            | 143 kB 11.5 MB/s eta 0:00:01\r\u001b[K     |████▍                           | 153 kB 11.5 MB/s eta 0:00:01\r\u001b[K     |████▊                           | 163 kB 11.5 MB/s eta 0:00:01\r\u001b[K     |█████                           | 174 kB 11.5 MB/s eta 0:00:01\r\u001b[K     |█████▎                          | 184 kB 11.5 MB/s eta 0:00:01\r\u001b[K     |█████▌                          | 194 kB 11.5 MB/s eta 0:00:01\r\u001b[K     |█████▉                          | 204 kB 11.5 MB/s eta 0:00:01\r\u001b[K     |██████▏                         | 215 kB 11.5 MB/s eta 0:00:01\r\u001b[K     |██████▍                         | 225 kB 11.5 MB/s eta 0:00:01\r\u001b[K     |██████▊                         | 235 kB 11.5 MB/s eta 0:00:01\r\u001b[K     |███████                         | 245 kB 11.5 MB/s eta 0:00:01\r\u001b[K     |███████▎                        | 256 kB 11.5 MB/s eta 0:00:01\r\u001b[K     |███████▋                        | 266 kB 11.5 MB/s eta 0:00:01\r\u001b[K     |███████▉                        | 276 kB 11.5 MB/s eta 0:00:01\r\u001b[K     |████████▏                       | 286 kB 11.5 MB/s eta 0:00:01\r\u001b[K     |████████▌                       | 296 kB 11.5 MB/s eta 0:00:01\r\u001b[K     |████████▊                       | 307 kB 11.5 MB/s eta 0:00:01\r\u001b[K     |█████████                       | 317 kB 11.5 MB/s eta 0:00:01\r\u001b[K     |█████████▍                      | 327 kB 11.5 MB/s eta 0:00:01\r\u001b[K     |█████████▋                      | 337 kB 11.5 MB/s eta 0:00:01\r\u001b[K     |██████████                      | 348 kB 11.5 MB/s eta 0:00:01\r\u001b[K     |██████████▏                     | 358 kB 11.5 MB/s eta 0:00:01\r\u001b[K     |██████████▌                     | 368 kB 11.5 MB/s eta 0:00:01\r\u001b[K     |██████████▉                     | 378 kB 11.5 MB/s eta 0:00:01\r\u001b[K     |███████████                     | 389 kB 11.5 MB/s eta 0:00:01\r\u001b[K     |███████████▍                    | 399 kB 11.5 MB/s eta 0:00:01\r\u001b[K     |███████████▊                    | 409 kB 11.5 MB/s eta 0:00:01\r\u001b[K     |████████████                    | 419 kB 11.5 MB/s eta 0:00:01\r\u001b[K     |████████████▎                   | 430 kB 11.5 MB/s eta 0:00:01\r\u001b[K     |████████████▌                   | 440 kB 11.5 MB/s eta 0:00:01\r\u001b[K     |████████████▉                   | 450 kB 11.5 MB/s eta 0:00:01\r\u001b[K     |█████████████▏                  | 460 kB 11.5 MB/s eta 0:00:01\r\u001b[K     |█████████████▍                  | 471 kB 11.5 MB/s eta 0:00:01\r\u001b[K     |█████████████▊                  | 481 kB 11.5 MB/s eta 0:00:01\r\u001b[K     |██████████████                  | 491 kB 11.5 MB/s eta 0:00:01\r\u001b[K     |██████████████▎                 | 501 kB 11.5 MB/s eta 0:00:01\r\u001b[K     |██████████████▋                 | 512 kB 11.5 MB/s eta 0:00:01\r\u001b[K     |██████████████▉                 | 522 kB 11.5 MB/s eta 0:00:01\r\u001b[K     |███████████████▏                | 532 kB 11.5 MB/s eta 0:00:01\r\u001b[K     |███████████████▌                | 542 kB 11.5 MB/s eta 0:00:01\r\u001b[K     |███████████████▊                | 552 kB 11.5 MB/s eta 0:00:01\r\u001b[K     |████████████████                | 563 kB 11.5 MB/s eta 0:00:01\r\u001b[K     |████████████████▍               | 573 kB 11.5 MB/s eta 0:00:01\r\u001b[K     |████████████████▋               | 583 kB 11.5 MB/s eta 0:00:01\r\u001b[K     |█████████████████               | 593 kB 11.5 MB/s eta 0:00:01\r\u001b[K     |█████████████████▏              | 604 kB 11.5 MB/s eta 0:00:01\r\u001b[K     |█████████████████▌              | 614 kB 11.5 MB/s eta 0:00:01\r\u001b[K     |█████████████████▉              | 624 kB 11.5 MB/s eta 0:00:01\r\u001b[K     |██████████████████              | 634 kB 11.5 MB/s eta 0:00:01\r\u001b[K     |██████████████████▍             | 645 kB 11.5 MB/s eta 0:00:01\r\u001b[K     |██████████████████▊             | 655 kB 11.5 MB/s eta 0:00:01\r\u001b[K     |███████████████████             | 665 kB 11.5 MB/s eta 0:00:01\r\u001b[K     |███████████████████▎            | 675 kB 11.5 MB/s eta 0:00:01\r\u001b[K     |███████████████████▌            | 686 kB 11.5 MB/s eta 0:00:01\r\u001b[K     |███████████████████▉            | 696 kB 11.5 MB/s eta 0:00:01\r\u001b[K     |████████████████████▏           | 706 kB 11.5 MB/s eta 0:00:01\r\u001b[K     |████████████████████▍           | 716 kB 11.5 MB/s eta 0:00:01\r\u001b[K     |████████████████████▊           | 727 kB 11.5 MB/s eta 0:00:01\r\u001b[K     |█████████████████████           | 737 kB 11.5 MB/s eta 0:00:01\r\u001b[K     |█████████████████████▎          | 747 kB 11.5 MB/s eta 0:00:01\r\u001b[K     |█████████████████████▋          | 757 kB 11.5 MB/s eta 0:00:01\r\u001b[K     |█████████████████████▉          | 768 kB 11.5 MB/s eta 0:00:01\r\u001b[K     |██████████████████████▏         | 778 kB 11.5 MB/s eta 0:00:01\r\u001b[K     |██████████████████████▌         | 788 kB 11.5 MB/s eta 0:00:01\r\u001b[K     |██████████████████████▊         | 798 kB 11.5 MB/s eta 0:00:01\r\u001b[K     |███████████████████████         | 808 kB 11.5 MB/s eta 0:00:01\r\u001b[K     |███████████████████████▍        | 819 kB 11.5 MB/s eta 0:00:01\r\u001b[K     |███████████████████████▋        | 829 kB 11.5 MB/s eta 0:00:01\r\u001b[K     |████████████████████████        | 839 kB 11.5 MB/s eta 0:00:01\r\u001b[K     |████████████████████████▏       | 849 kB 11.5 MB/s eta 0:00:01\r\u001b[K     |████████████████████████▌       | 860 kB 11.5 MB/s eta 0:00:01\r\u001b[K     |████████████████████████▉       | 870 kB 11.5 MB/s eta 0:00:01\r\u001b[K     |█████████████████████████       | 880 kB 11.5 MB/s eta 0:00:01\r\u001b[K     |█████████████████████████▍      | 890 kB 11.5 MB/s eta 0:00:01\r\u001b[K     |█████████████████████████▊      | 901 kB 11.5 MB/s eta 0:00:01\r\u001b[K     |██████████████████████████      | 911 kB 11.5 MB/s eta 0:00:01\r\u001b[K     |██████████████████████████▎     | 921 kB 11.5 MB/s eta 0:00:01\r\u001b[K     |██████████████████████████▌     | 931 kB 11.5 MB/s eta 0:00:01\r\u001b[K     |██████████████████████████▉     | 942 kB 11.5 MB/s eta 0:00:01\r\u001b[K     |███████████████████████████▏    | 952 kB 11.5 MB/s eta 0:00:01\r\u001b[K     |███████████████████████████▍    | 962 kB 11.5 MB/s eta 0:00:01\r\u001b[K     |███████████████████████████▊    | 972 kB 11.5 MB/s eta 0:00:01\r\u001b[K     |████████████████████████████    | 983 kB 11.5 MB/s eta 0:00:01\r\u001b[K     |████████████████████████████▎   | 993 kB 11.5 MB/s eta 0:00:01\r\u001b[K     |████████████████████████████▋   | 1.0 MB 11.5 MB/s eta 0:00:01\r\u001b[K     |████████████████████████████▉   | 1.0 MB 11.5 MB/s eta 0:00:01\r\u001b[K     |█████████████████████████████▏  | 1.0 MB 11.5 MB/s eta 0:00:01\r\u001b[K     |█████████████████████████████▌  | 1.0 MB 11.5 MB/s eta 0:00:01\r\u001b[K     |█████████████████████████████▊  | 1.0 MB 11.5 MB/s eta 0:00:01\r\u001b[K     |██████████████████████████████  | 1.1 MB 11.5 MB/s eta 0:00:01\r\u001b[K     |██████████████████████████████▍ | 1.1 MB 11.5 MB/s eta 0:00:01\r\u001b[K     |██████████████████████████████▋ | 1.1 MB 11.5 MB/s eta 0:00:01\r\u001b[K     |███████████████████████████████ | 1.1 MB 11.5 MB/s eta 0:00:01\r\u001b[K     |███████████████████████████████▏| 1.1 MB 11.5 MB/s eta 0:00:01\r\u001b[K     |███████████████████████████████▌| 1.1 MB 11.5 MB/s eta 0:00:01\r\u001b[K     |███████████████████████████████▉| 1.1 MB 11.5 MB/s eta 0:00:01\r\u001b[K     |████████████████████████████████| 1.1 MB 11.5 MB/s \n",
            "\u001b[?25h"
          ]
        }
      ],
      "source": [
        "#Librerías necesarias\n",
        "!pip install -q -U tensorflow_addons\n",
        "\n",
        "from tensorflow.keras.layers     import *\n",
        "from tensorflow.keras.optimizers import *\n",
        "from tensorflow.keras.utils      import to_categorical\n",
        "from tensorflow.keras            import Sequential\n",
        "\n",
        "from tensorflow.keras.callbacks   import LearningRateScheduler\n",
        "from tensorflow_addons.optimizers import CyclicalLearningRate\n",
        "\n",
        "import numpy as np\n",
        "import tensorflow as tf\n",
        "import matplotlib.pyplot as plt\n",
        "\n",
        "from sklearn.model_selection     import train_test_split\n",
        "\n",
        "# Cargamos el dataset de prueba MNIST.\n",
        "mnist = np.genfromtxt('./sample_data/mnist_train_small.csv', delimiter=',')\n",
        "\n",
        "# Separamos las etiquetas de las imágenes\n",
        "X = mnist[:, 1:]\n",
        "Y = mnist[:, 0:1]\n",
        "\n",
        "# Escalamos los datos y codificamos con One-Hot Encoding el output.\n",
        "Xn = X / 255\n",
        "Yn = to_categorical(Y)\n",
        "\n",
        "\n",
        "# Partición train/test split para supervisar el overfitting.\n",
        "X_train, X_test, Y_train, Y_test = train_test_split(Xn, Yn, test_size=0.3)\n",
        "\n"
      ]
    },
    {
      "cell_type": "code",
      "execution_count": null,
      "metadata": {
        "colab": {
          "base_uri": "https://localhost:8080/"
        },
        "id": "QGmYTB5IfX66",
        "outputId": "2f08d049-f26c-4362-e836-16bd83581272"
      },
      "outputs": [
        {
          "name": "stdout",
          "output_type": "stream",
          "text": [
            "Epoch 1/20\n",
            "1750/1750 [==============================] - 15s 8ms/step - loss: 0.0861 - acc: 0.3081 - val_loss: 0.0656 - val_acc: 0.5702\n",
            "Epoch 2/20\n",
            "1750/1750 [==============================] - 14s 8ms/step - loss: 0.0324 - acc: 0.7801 - val_loss: 0.0206 - val_acc: 0.8588\n",
            "Epoch 3/20\n",
            "1750/1750 [==============================] - 13s 7ms/step - loss: 0.0148 - acc: 0.9037 - val_loss: 0.0140 - val_acc: 0.9065\n",
            "Epoch 4/20\n",
            "1750/1750 [==============================] - 13s 7ms/step - loss: 0.0110 - acc: 0.9272 - val_loss: 0.0115 - val_acc: 0.9233\n",
            "Epoch 5/20\n",
            "1750/1750 [==============================] - 12s 7ms/step - loss: 0.0091 - acc: 0.9415 - val_loss: 0.0087 - val_acc: 0.9428\n",
            "Epoch 6/20\n",
            "1750/1750 [==============================] - 11s 6ms/step - loss: 0.0077 - acc: 0.9501 - val_loss: 0.0088 - val_acc: 0.9397\n",
            "Epoch 7/20\n",
            "1750/1750 [==============================] - 12s 7ms/step - loss: 0.0070 - acc: 0.9552 - val_loss: 0.0095 - val_acc: 0.9357\n",
            "Epoch 8/20\n",
            "1750/1750 [==============================] - 11s 6ms/step - loss: 0.0064 - acc: 0.9588 - val_loss: 0.0066 - val_acc: 0.9548\n",
            "Epoch 9/20\n",
            "1750/1750 [==============================] - 11s 7ms/step - loss: 0.0057 - acc: 0.9625 - val_loss: 0.0068 - val_acc: 0.9550\n",
            "Epoch 10/20\n",
            "1750/1750 [==============================] - 11s 7ms/step - loss: 0.0052 - acc: 0.9669 - val_loss: 0.0077 - val_acc: 0.9485\n",
            "Epoch 11/20\n",
            "1750/1750 [==============================] - 12s 7ms/step - loss: 0.0050 - acc: 0.9689 - val_loss: 0.0068 - val_acc: 0.9535\n",
            "Epoch 12/20\n",
            "1750/1750 [==============================] - 13s 7ms/step - loss: 0.0045 - acc: 0.9719 - val_loss: 0.0068 - val_acc: 0.9555\n",
            "Epoch 13/20\n",
            "1750/1750 [==============================] - 13s 7ms/step - loss: 0.0043 - acc: 0.9736 - val_loss: 0.0061 - val_acc: 0.9590\n",
            "Epoch 14/20\n",
            "1750/1750 [==============================] - 11s 7ms/step - loss: 0.0039 - acc: 0.9754 - val_loss: 0.0062 - val_acc: 0.9600\n",
            "Epoch 15/20\n",
            "1750/1750 [==============================] - 11s 6ms/step - loss: 0.0036 - acc: 0.9781 - val_loss: 0.0058 - val_acc: 0.9612\n",
            "Epoch 16/20\n",
            "1750/1750 [==============================] - 12s 7ms/step - loss: 0.0035 - acc: 0.9797 - val_loss: 0.0062 - val_acc: 0.9582\n",
            "Epoch 17/20\n",
            "1750/1750 [==============================] - 11s 6ms/step - loss: 0.0033 - acc: 0.9809 - val_loss: 0.0068 - val_acc: 0.9547\n",
            "Epoch 18/20\n",
            "1750/1750 [==============================] - 11s 6ms/step - loss: 0.0031 - acc: 0.9816 - val_loss: 0.0052 - val_acc: 0.9662\n",
            "Epoch 19/20\n",
            "1750/1750 [==============================] - 11s 6ms/step - loss: 0.0030 - acc: 0.9825 - val_loss: 0.0050 - val_acc: 0.9668\n",
            "Epoch 20/20\n",
            "1750/1750 [==============================] - 12s 7ms/step - loss: 0.0028 - acc: 0.9839 - val_loss: 0.0054 - val_acc: 0.9643\n"
          ]
        }
      ],
      "source": [
        "#Learning Rate Constante.\n",
        "\n",
        "# ---- DISEÑO DEL MODELO ---- #\n",
        "model_1 = Sequential()\n",
        "\n",
        "model_1.add(Conv2D(filters=16, kernel_size=3, activation='relu', input_shape=(28, 28, 1)))\n",
        "model_1.add(MaxPooling2D())\n",
        "model_1.add(Conv2D(filters=32, kernel_size=3, activation='relu'))\n",
        "model_1.add(MaxPooling2D())\n",
        "model_1.add(Conv2D(filters=64, kernel_size=3, activation='relu'))\n",
        "model_1.add(MaxPooling2D())\n",
        "model_1.add(Flatten())\n",
        "model_1.add(Dense(units=10, activation='softmax')) \n",
        "\n",
        "# ---- CONFIGURACIÓN DEL MODELO ---- #\n",
        "model_1.compile(optimizer=SGD(learning_rate=0.1), \n",
        "              loss=\"mse\",\n",
        "              metrics=[\"acc\"])\n",
        "\n",
        "# ---- ENTRENAMIENTO DEL MODELO ---- #\n",
        "hist1 = model_1.fit(X_train.reshape(-1, 28, 28, 1), Y_train,\n",
        "                 validation_data=(X_test.reshape(-1, 28, 28, 1), Y_test),\n",
        "                 batch_size=8, epochs=20)"
      ]
    },
    {
      "cell_type": "code",
      "execution_count": null,
      "metadata": {
        "colab": {
          "base_uri": "https://localhost:8080/"
        },
        "id": "RA5zbNwwfdgL",
        "outputId": "48728c3a-2b48-4eeb-b525-f4639175fecb"
      },
      "outputs": [
        {
          "name": "stdout",
          "output_type": "stream",
          "text": [
            "Epoch 1/25\n",
            "1750/1750 [==============================] - 14s 8ms/step - loss: 0.0776 - acc: 0.3825 - val_loss: 0.0366 - val_acc: 0.7685 - lr: 0.1000\n",
            "Epoch 2/25\n",
            "1750/1750 [==============================] - 13s 7ms/step - loss: 0.0230 - acc: 0.8465 - val_loss: 0.0165 - val_acc: 0.8918 - lr: 0.0990\n",
            "Epoch 3/25\n",
            "1750/1750 [==============================] - 14s 8ms/step - loss: 0.0139 - acc: 0.9087 - val_loss: 0.0121 - val_acc: 0.9198 - lr: 0.0971\n",
            "Epoch 4/25\n",
            "1750/1750 [==============================] - 13s 8ms/step - loss: 0.0109 - acc: 0.9284 - val_loss: 0.0106 - val_acc: 0.9298 - lr: 0.0942\n",
            "Epoch 5/25\n",
            "1750/1750 [==============================] - 14s 8ms/step - loss: 0.0091 - acc: 0.9400 - val_loss: 0.0093 - val_acc: 0.9357 - lr: 0.0906\n",
            "Epoch 6/25\n",
            "1750/1750 [==============================] - 15s 9ms/step - loss: 0.0077 - acc: 0.9519 - val_loss: 0.0096 - val_acc: 0.9340 - lr: 0.0863\n",
            "Epoch 7/25\n",
            "1750/1750 [==============================] - 14s 8ms/step - loss: 0.0069 - acc: 0.9559 - val_loss: 0.0075 - val_acc: 0.9503 - lr: 0.0814\n",
            "Epoch 8/25\n",
            "1750/1750 [==============================] - 14s 8ms/step - loss: 0.0062 - acc: 0.9607 - val_loss: 0.0078 - val_acc: 0.9468 - lr: 0.0761\n",
            "Epoch 9/25\n",
            "1750/1750 [==============================] - 15s 8ms/step - loss: 0.0055 - acc: 0.9668 - val_loss: 0.0077 - val_acc: 0.9478 - lr: 0.0705\n",
            "Epoch 10/25\n",
            "1750/1750 [==============================] - 15s 9ms/step - loss: 0.0051 - acc: 0.9687 - val_loss: 0.0067 - val_acc: 0.9553 - lr: 0.0646\n",
            "Epoch 11/25\n",
            "1750/1750 [==============================] - 14s 8ms/step - loss: 0.0048 - acc: 0.9696 - val_loss: 0.0063 - val_acc: 0.9590 - lr: 0.0588\n",
            "Epoch 12/25\n",
            "1750/1750 [==============================] - 15s 9ms/step - loss: 0.0044 - acc: 0.9724 - val_loss: 0.0062 - val_acc: 0.9585 - lr: 0.0529\n",
            "Epoch 13/25\n",
            "1750/1750 [==============================] - 15s 9ms/step - loss: 0.0041 - acc: 0.9750 - val_loss: 0.0063 - val_acc: 0.9578 - lr: 0.0473\n",
            "Epoch 14/25\n",
            "1750/1750 [==============================] - 15s 8ms/step - loss: 0.0038 - acc: 0.9766 - val_loss: 0.0058 - val_acc: 0.9625 - lr: 0.0418\n",
            "Epoch 15/25\n",
            "1750/1750 [==============================] - 15s 8ms/step - loss: 0.0035 - acc: 0.9798 - val_loss: 0.0060 - val_acc: 0.9593 - lr: 0.0367\n",
            "Epoch 16/25\n",
            "1750/1750 [==============================] - 15s 9ms/step - loss: 0.0034 - acc: 0.9800 - val_loss: 0.0059 - val_acc: 0.9595 - lr: 0.0319\n",
            "Epoch 17/25\n",
            "1750/1750 [==============================] - 16s 9ms/step - loss: 0.0032 - acc: 0.9815 - val_loss: 0.0059 - val_acc: 0.9612 - lr: 0.0275\n",
            "Epoch 18/25\n",
            "1750/1750 [==============================] - 16s 9ms/step - loss: 0.0030 - acc: 0.9832 - val_loss: 0.0057 - val_acc: 0.9620 - lr: 0.0235\n",
            "Epoch 19/25\n",
            "1750/1750 [==============================] - 15s 9ms/step - loss: 0.0030 - acc: 0.9840 - val_loss: 0.0056 - val_acc: 0.9630 - lr: 0.0199\n",
            "Epoch 20/25\n",
            "1750/1750 [==============================] - 15s 8ms/step - loss: 0.0028 - acc: 0.9840 - val_loss: 0.0055 - val_acc: 0.9637 - lr: 0.0167\n",
            "Epoch 21/25\n",
            "1750/1750 [==============================] - 15s 8ms/step - loss: 0.0028 - acc: 0.9848 - val_loss: 0.0054 - val_acc: 0.9642 - lr: 0.0140\n",
            "Epoch 22/25\n",
            "1750/1750 [==============================] - 14s 8ms/step - loss: 0.0027 - acc: 0.9857 - val_loss: 0.0055 - val_acc: 0.9632 - lr: 0.0115\n",
            "Epoch 23/25\n",
            "1750/1750 [==============================] - 15s 9ms/step - loss: 0.0026 - acc: 0.9859 - val_loss: 0.0055 - val_acc: 0.9635 - lr: 0.0095\n",
            "Epoch 24/25\n",
            "1750/1750 [==============================] - 15s 9ms/step - loss: 0.0026 - acc: 0.9863 - val_loss: 0.0053 - val_acc: 0.9650 - lr: 0.0077\n",
            "Epoch 25/25\n",
            "1750/1750 [==============================] - 15s 9ms/step - loss: 0.0026 - acc: 0.9873 - val_loss: 0.0053 - val_acc: 0.9642 - lr: 0.0062\n"
          ]
        }
      ],
      "source": [
        "#Learning Rate Step-Decay.\n",
        "\n",
        "# ---- DISEÑO DEL MODELO ---- #\n",
        "model_2 = Sequential()\n",
        "\n",
        "model_2.add(Conv2D(filters=16, kernel_size=3, activation='relu', input_shape=(28, 28, 1)))\n",
        "model_2.add(MaxPooling2D())\n",
        "model_2.add(Conv2D(filters=32, kernel_size=3, activation='relu'))\n",
        "model_2.add(MaxPooling2D())\n",
        "model_2.add(Conv2D(filters=64, kernel_size=3, activation='relu'))\n",
        "model_2.add(MaxPooling2D())\n",
        "model_2.add(Flatten())\n",
        "model_2.add(Dense(units=10, activation='softmax')) \n",
        "\n",
        "# ---- CONFIGURACIÓN DEL MODELO ---- #\n",
        "def scheduler(epoch, lr):\n",
        "    return lr * 1 / (1 + 0.01 * epoch)\n",
        "\n",
        "planificador = LearningRateScheduler(scheduler)\n",
        "\n",
        "model_2.compile(optimizer=SGD(learning_rate=0.1),\n",
        "                loss=\"mse\",\n",
        "                metrics=[\"acc\"])\n",
        "\n",
        "hist2 = model_2.fit(X_train.reshape(-1, 28, 28, 1), Y_train, \n",
        "                    validation_data=(X_test.reshape(-1, 28, 28, 1), Y_test), \n",
        "                    batch_size=8, callbacks=[planificador], epochs=25)"
      ]
    },
    {
      "cell_type": "code",
      "execution_count": null,
      "metadata": {
        "colab": {
          "base_uri": "https://localhost:8080/"
        },
        "id": "jzLH7DUxfirI",
        "outputId": "55d598ff-4917-4005-cf08-546ece8c8f90"
      },
      "outputs": [
        {
          "name": "stdout",
          "output_type": "stream",
          "text": [
            "Epoch 1/25\n",
            "1750/1750 [==============================] - 13s 7ms/step - loss: 0.0890 - acc: 0.2559 - val_loss: 0.0822 - val_acc: 0.3297\n",
            "Epoch 2/25\n",
            "1750/1750 [==============================] - 11s 6ms/step - loss: 0.0348 - acc: 0.7460 - val_loss: 0.0284 - val_acc: 0.7998\n",
            "Epoch 3/25\n",
            "1750/1750 [==============================] - 12s 7ms/step - loss: 0.0129 - acc: 0.9161 - val_loss: 0.0189 - val_acc: 0.8658\n",
            "Epoch 4/25\n",
            "1750/1750 [==============================] - 11s 6ms/step - loss: 0.0095 - acc: 0.9382 - val_loss: 0.0082 - val_acc: 0.9450\n",
            "Epoch 5/25\n",
            "1750/1750 [==============================] - 11s 7ms/step - loss: 0.0070 - acc: 0.9559 - val_loss: 0.0070 - val_acc: 0.9550\n",
            "Epoch 6/25\n",
            "1750/1750 [==============================] - 12s 7ms/step - loss: 0.0050 - acc: 0.9678 - val_loss: 0.0066 - val_acc: 0.9562\n",
            "Epoch 7/25\n",
            "1750/1750 [==============================] - 13s 7ms/step - loss: 0.0036 - acc: 0.9781 - val_loss: 0.0053 - val_acc: 0.9662\n",
            "Epoch 8/25\n",
            "1750/1750 [==============================] - 14s 8ms/step - loss: 0.0027 - acc: 0.9842 - val_loss: 0.0050 - val_acc: 0.9680\n",
            "Epoch 9/25\n",
            "1750/1750 [==============================] - 12s 7ms/step - loss: 0.0023 - acc: 0.9866 - val_loss: 0.0049 - val_acc: 0.9687\n",
            "Epoch 10/25\n",
            "1750/1750 [==============================] - 11s 6ms/step - loss: 0.0024 - acc: 0.9856 - val_loss: 0.0050 - val_acc: 0.9673\n",
            "Epoch 11/25\n",
            "1750/1750 [==============================] - 12s 7ms/step - loss: 0.0027 - acc: 0.9836 - val_loss: 0.0055 - val_acc: 0.9642\n",
            "Epoch 12/25\n",
            "1750/1750 [==============================] - 13s 7ms/step - loss: 0.0028 - acc: 0.9819 - val_loss: 0.0058 - val_acc: 0.9635\n",
            "Epoch 13/25\n",
            "1750/1750 [==============================] - 12s 7ms/step - loss: 0.0027 - acc: 0.9831 - val_loss: 0.0053 - val_acc: 0.9657\n",
            "Epoch 14/25\n",
            "1750/1750 [==============================] - 13s 7ms/step - loss: 0.0021 - acc: 0.9876 - val_loss: 0.0054 - val_acc: 0.9637\n",
            "Epoch 15/25\n",
            "1750/1750 [==============================] - 13s 7ms/step - loss: 0.0016 - acc: 0.9913 - val_loss: 0.0047 - val_acc: 0.9698\n",
            "Epoch 16/25\n",
            "1750/1750 [==============================] - 12s 7ms/step - loss: 0.0013 - acc: 0.9931 - val_loss: 0.0046 - val_acc: 0.9695\n",
            "Epoch 17/25\n",
            "1750/1750 [==============================] - 12s 7ms/step - loss: 0.0012 - acc: 0.9939 - val_loss: 0.0047 - val_acc: 0.9705\n",
            "Epoch 18/25\n",
            "1750/1750 [==============================] - 13s 7ms/step - loss: 0.0012 - acc: 0.9936 - val_loss: 0.0045 - val_acc: 0.9703\n",
            "Epoch 19/25\n",
            "1750/1750 [==============================] - 13s 7ms/step - loss: 0.0013 - acc: 0.9935 - val_loss: 0.0047 - val_acc: 0.9697\n",
            "Epoch 20/25\n",
            "1750/1750 [==============================] - 12s 7ms/step - loss: 0.0012 - acc: 0.9937 - val_loss: 0.0044 - val_acc: 0.9707\n",
            "Epoch 21/25\n",
            "1750/1750 [==============================] - 13s 7ms/step - loss: 0.0012 - acc: 0.9936 - val_loss: 0.0048 - val_acc: 0.9690\n",
            "Epoch 22/25\n",
            "1750/1750 [==============================] - 13s 7ms/step - loss: 0.0011 - acc: 0.9938 - val_loss: 0.0046 - val_acc: 0.9700\n",
            "Epoch 23/25\n",
            "1750/1750 [==============================] - 12s 7ms/step - loss: 9.9696e-04 - acc: 0.9950 - val_loss: 0.0046 - val_acc: 0.9695\n",
            "Epoch 24/25\n",
            "1750/1750 [==============================] - 13s 7ms/step - loss: 9.1499e-04 - acc: 0.9951 - val_loss: 0.0045 - val_acc: 0.9703\n",
            "Epoch 25/25\n",
            "1750/1750 [==============================] - 12s 7ms/step - loss: 8.9022e-04 - acc: 0.9952 - val_loss: 0.0045 - val_acc: 0.9710\n"
          ]
        }
      ],
      "source": [
        "#Cyclical Learning Rate\n",
        "\n",
        "# Hiperparámetro de tamaño de lote.\n",
        "batch_size = 8\n",
        "# Número de steps que se cumplen por época.\n",
        "steps_per_epoch = len(X_train) // batch_size\n",
        "\n",
        "\n",
        "# ---- CONFIGURACIÓN DEL MODELO ---- #\n",
        "\n",
        "clr = CyclicalLearningRate(initial_learning_rate=0.05,\n",
        "                           maximal_learning_rate=0.5,\n",
        "                           step_size= 4 * steps_per_epoch,\n",
        "                           scale_fn= lambda x: 1/(2**(x-1)))\n",
        "\n",
        "# ---- DISEÑO DEL MODELO ---- #\n",
        "model_3 = Sequential()\n",
        "\n",
        "model_3.add(Conv2D(filters=16, kernel_size=3, activation='relu', input_shape=(28, 28, 1)))\n",
        "model_3.add(MaxPooling2D())\n",
        "model_3.add(Conv2D(filters=32, kernel_size=3, activation='relu'))\n",
        "model_3.add(MaxPooling2D())\n",
        "model_3.add(Conv2D(filters=64, kernel_size=3, activation='relu'))\n",
        "model_3.add(MaxPooling2D())\n",
        "model_3.add(Flatten())\n",
        "model_3.add(Dense(units=10, activation='softmax')) \n",
        "\n",
        "model_3.compile(optimizer=SGD(learning_rate=clr),\n",
        "                loss=\"mse\",\n",
        "                metrics=[\"acc\"])\n",
        "\n",
        "hist3 = model_3.fit(X_train.reshape(-1, 28, 28, 1), Y_train, \n",
        "                    validation_data=(X_test.reshape(-1, 28, 28, 1), Y_test), \n",
        "                    batch_size=8, epochs=25)"
      ]
    },
    {
      "cell_type": "code",
      "execution_count": null,
      "metadata": {
        "colab": {
          "base_uri": "https://localhost:8080/",
          "height": 279
        },
        "id": "zJpUH7WifoA-",
        "outputId": "87376e94-0194-4843-c7fa-08c3c1cd8053"
      },
      "outputs": [
        {
          "data": {
            "image/png": "[encoded data removed]",
            "text/plain": [
              "<Figure size 432x288 with 1 Axes>"
            ]
          },
          "metadata": {},
          "output_type": "display_data"
        }
      ],
      "source": [
        "plt.plot(np.arange(len(hist1.history['val_loss'])), hist1.history['val_loss'])\n",
        "plt.plot(np.arange(len(hist2.history['val_loss'])), hist2.history['val_loss'])\n",
        "plt.plot(np.arange(len(hist3.history['val_loss'])), hist3.history['val_loss'])\n",
        "\n",
        "plt.xlabel(\"Epochs\")\n",
        "plt.ylabel(\"Loss\")\n",
        "plt.legend(['Constant LR','Decay LR', 'Cyclic LR'])\n",
        "plt.show()"
      ]
    },
    {
      "cell_type": "markdown",
      "metadata": {
        "id": "SoGANzaqvtXU"
      },
      "source": [
        "# Hyperparameter Tuning 2"
      ]
    },
    {
      "cell_type": "code",
      "execution_count": null,
      "metadata": {
        "colab": {
          "base_uri": "https://localhost:8080/"
        },
        "id": "rkfN2qs8v2DI",
        "outputId": "58b860f5-e167-4292-a1c6-f284db07be9d"
      },
      "outputs": [
        {
          "name": "stdout",
          "output_type": "stream",
          "text": [
            "\u001b[?25l\r\u001b[K     |██▌                             | 10 kB 17.8 MB/s eta 0:00:01\r\u001b[K     |█████                           | 20 kB 11.2 MB/s eta 0:00:01\r\u001b[K     |███████▍                        | 30 kB 8.4 MB/s eta 0:00:01\r\u001b[K     |█████████▉                      | 40 kB 7.7 MB/s eta 0:00:01\r\u001b[K     |████████████▎                   | 51 kB 4.2 MB/s eta 0:00:01\r\u001b[K     |██████████████▊                 | 61 kB 5.0 MB/s eta 0:00:01\r\u001b[K     |█████████████████▏              | 71 kB 5.6 MB/s eta 0:00:01\r\u001b[K     |███████████████████▋            | 81 kB 5.6 MB/s eta 0:00:01\r\u001b[K     |██████████████████████          | 92 kB 6.2 MB/s eta 0:00:01\r\u001b[K     |████████████████████████▌       | 102 kB 5.0 MB/s eta 0:00:01\r\u001b[K     |███████████████████████████     | 112 kB 5.0 MB/s eta 0:00:01\r\u001b[K     |█████████████████████████████▍  | 122 kB 5.0 MB/s eta 0:00:01\r\u001b[K     |███████████████████████████████▉| 133 kB 5.0 MB/s eta 0:00:01\r\u001b[K     |████████████████████████████████| 133 kB 5.0 MB/s \n",
            "\u001b[?25h"
          ]
        }
      ],
      "source": [
        "#Librerías necesarias\n",
        "!pip install keras_tuner -q\n",
        "\n",
        "import numpy as np\n",
        "import keras_tuner as kt\n",
        "from tensorflow                  import keras\n",
        "from tensorflow.keras.layers     import *\n",
        "from tensorflow.keras.optimizers import *\n",
        "from tensorflow.keras.utils      import to_categorical\n",
        "from tensorflow.keras            import Sequential\n",
        "from sklearn.model_selection     import train_test_split\n",
        "from tensorflow.keras.callbacks import EarlyStopping\n",
        "\n",
        "# Cargamos el dataset MNIST.\n",
        "mnist = np.genfromtxt('./sample_data/mnist_train_small.csv', delimiter=',')\n",
        "\n",
        "# Separamos las etiquetas de las imágenes\n",
        "X = mnist[:, 1:]\n",
        "Y = mnist[:, 0:1]\n",
        "\n",
        "# Escalamos los datos y codificamos con One-Hot Encoding el output.\n",
        "Xn = X / 255\n",
        "Yn = to_categorical(Y)\n",
        "\n",
        "# Usamos el divisor de datos de Sklearn para train/test\n",
        "from sklearn.model_selection import train_test_split\n",
        "\n",
        "# Partición train/test split para supervisar el overfitting.\n",
        "X_train, X_test, Y_train, Y_test = train_test_split(Xn, Yn, test_size=0.3)"
      ]
    },
    {
      "cell_type": "code",
      "execution_count": null,
      "metadata": {
        "id": "qGjrb8hrIAnJ"
      },
      "outputs": [],
      "source": [
        "#Función que construye los modelos de manera aleatoria con los valores que les pasemos.\n",
        "def build_model(hp):\n",
        "\n",
        "  # Creamos el modelo.\n",
        "  model = Sequential()\n",
        "\n",
        "  # Creamos tantas capas como se decida en mlp_layers.\n",
        "  for i in range(hp.Int(\"mlp_layers\", 1, 3)):\n",
        "\n",
        "    # Creamos tantas neuronas por capa como se decida en units_l.\n",
        "    model.add(Conv2D(hp.Int(f\"filters_{i}\", 3, 7, step=2), kernel_size=3, padding='SAME', activation=hp.Choice('activation', [\"sigmoid\", \"relu\"]), input_shape=(28, 28, 1)))\n",
        "    model.add(MaxPooling2D())\n",
        "  # Convertimos a vector los mapas de características.\n",
        "  model.add(Flatten())\n",
        "  # Creamos la última capa.\n",
        "  model.add(Dense(10, activation='softmax')) \n",
        "\n",
        "  # Podemos usar también el método Choice para definir un listado de valores de donde elegir automáticamente.\n",
        "  model.compile(optimizer=Adam(learning_rate=hp.Choice('learning_rate', [0.5, 0.1, 0.05, 0.01, 0.005, 0.001])),\n",
        "                loss=\"mse\",\n",
        "                metrics=[\"acc\"])\n",
        "  \n",
        "  return model"
      ]
    },
    {
      "cell_type": "code",
      "execution_count": null,
      "metadata": {
        "colab": {
          "base_uri": "https://localhost:8080/"
        },
        "id": "SFKm7UAuIP0s",
        "outputId": "eb23300a-c827-4b51-e195-ef8905af2666"
      },
      "outputs": [
        {
          "name": "stdout",
          "output_type": "stream",
          "text": [
            "Model: \"sequential\"\n",
            "_________________________________________________________________\n",
            " Layer (type)                Output Shape              Param #   \n",
            "=================================================================\n",
            " conv2d (Conv2D)             (None, 28, 28, 3)         30        \n",
            "                                                                 \n",
            " max_pooling2d (MaxPooling2D  (None, 14, 14, 3)        0         \n",
            " )                                                               \n",
            "                                                                 \n",
            " flatten (Flatten)           (None, 588)               0         \n",
            "                                                                 \n",
            " dense (Dense)               (None, 10)                5890      \n",
            "                                                                 \n",
            "=================================================================\n",
            "Total params: 5,920\n",
            "Trainable params: 5,920\n",
            "Non-trainable params: 0\n",
            "_________________________________________________________________\n"
          ]
        }
      ],
      "source": [
        "hp = kt.HyperParameters()\n",
        "\n",
        "model = build_model(hp) \n",
        "model(X_train.reshape(-1, 28, 28, 1)[:100])    \n",
        "model.summary()   "
      ]
    },
    {
      "cell_type": "code",
      "execution_count": null,
      "metadata": {
        "colab": {
          "base_uri": "https://localhost:8080/"
        },
        "id": "LeRC3NCEIWJu",
        "outputId": "3b26c148-d29f-42b8-f375-debb0a037b61"
      },
      "outputs": [
        {
          "name": "stdout",
          "output_type": "stream",
          "text": [
            "Trial 100 Complete [00h 00m 17s]\n",
            "val_acc: 0.8569999933242798\n",
            "\n",
            "Best val_acc So Far: 0.9710000157356262\n",
            "Total elapsed time: 00h 31m 33s\n",
            "INFO:tensorflow:Oracle triggered exit\n"
          ]
        }
      ],
      "source": [
        "tuner = kt.RandomSearch(\n",
        "    build_model,\n",
        "    max_trials=100,\n",
        "    overwrite=True,\n",
        "    objective=\"val_acc\",\n",
        "    directory=\"/tmp/tb\")\n",
        "\n",
        "tuner.search(\n",
        "    X_train.reshape(-1, 28, 28, 1)[:5000],\n",
        "    Y_train[:5000],\n",
        "    validation_split=0.2,\n",
        "    epochs=25,\n",
        ")"
      ]
    },
    {
      "cell_type": "code",
      "execution_count": null,
      "metadata": {
        "colab": {
          "base_uri": "https://localhost:8080/"
        },
        "id": "I-1wb_8VIZUr",
        "outputId": "a932f11d-a04d-46cc-8cd2-75513c14b771"
      },
      "outputs": [
        {
          "name": "stdout",
          "output_type": "stream",
          "text": [
            "Epoch 1/100\n",
            "438/438 [==============================] - 3s 6ms/step - loss: 0.0065 - acc: 0.9589 - val_loss: 0.0083 - val_acc: 0.9467\n",
            "Epoch 2/100\n",
            "438/438 [==============================] - 3s 6ms/step - loss: 0.0054 - acc: 0.9659 - val_loss: 0.0076 - val_acc: 0.9520\n",
            "Epoch 3/100\n",
            "438/438 [==============================] - 3s 6ms/step - loss: 0.0044 - acc: 0.9725 - val_loss: 0.0074 - val_acc: 0.9553\n",
            "Epoch 4/100\n",
            "438/438 [==============================] - 2s 5ms/step - loss: 0.0046 - acc: 0.9723 - val_loss: 0.0083 - val_acc: 0.9510\n",
            "Epoch 5/100\n",
            "438/438 [==============================] - 3s 6ms/step - loss: 0.0047 - acc: 0.9717 - val_loss: 0.0071 - val_acc: 0.9568\n",
            "Epoch 6/100\n",
            "438/438 [==============================] - 2s 5ms/step - loss: 0.0044 - acc: 0.9745 - val_loss: 0.0077 - val_acc: 0.9562\n",
            "Epoch 7/100\n",
            "438/438 [==============================] - 3s 6ms/step - loss: 0.0044 - acc: 0.9749 - val_loss: 0.0066 - val_acc: 0.9633\n",
            "Epoch 8/100\n",
            "438/438 [==============================] - 2s 6ms/step - loss: 0.0043 - acc: 0.9752 - val_loss: 0.0066 - val_acc: 0.9627\n",
            "Epoch 9/100\n",
            "438/438 [==============================] - 2s 6ms/step - loss: 0.0049 - acc: 0.9722 - val_loss: 0.0082 - val_acc: 0.9562\n",
            "Epoch 10/100\n",
            "438/438 [==============================] - 3s 6ms/step - loss: 0.0048 - acc: 0.9731 - val_loss: 0.0085 - val_acc: 0.9540\n"
          ]
        },
        {
          "data": {
            "text/plain": [
              "<keras.callbacks.History at 0x7f9ab2a968d0>"
            ]
          },
          "execution_count": 5,
          "metadata": {},
          "output_type": "execute_result"
        }
      ],
      "source": [
        "# Configuramos el EarlyStopping.\n",
        "early_stop = EarlyStopping(monitor=\"val_acc\", patience=3)\n",
        "\n",
        "#Guardamos el mejor modelo en la variable best_model\n",
        "best_model = tuner.get_best_models()[0]\n",
        "# Entrenamos al modelo.\n",
        "best_model.fit(X_train.reshape(-1, 28, 28, 1), Y_train, validation_data=(X_test.reshape(-1, 28, 28, 1), Y_test), \n",
        "               callbacks=[early_stop], epochs=100)"
      ]
    },
    {
      "cell_type": "markdown",
      "metadata": {
        "id": "5RoeuOx-G4x2"
      },
      "source": [
        "# Data augmentation"
      ]
    },
    {
      "cell_type": "code",
      "source": [
        "# Importamos las librerías necesarias.\n",
        "\n",
        "import numpy as np\n",
        "import tensorflow as tf\n",
        "import matplotlib.pyplot as plt\n",
        "import random\n",
        "from tensorflow.keras.layers     import *\n",
        "from tensorflow.keras.optimizers import *\n",
        "from tensorflow.keras.utils      import to_categorical\n",
        "from tensorflow.keras            import Sequential\n",
        "from tensorflow.keras.callbacks import EarlyStopping\n",
        "from tensorflow.keras.preprocessing.image import ImageDataGenerator\n",
        "\n",
        "# Importamos el dataset desde el módulo de datasets de Keras.\n",
        "(X_train, Y_train), (X_test, Y_test) = tf.keras.datasets.fashion_mnist.load_data()\n",
        "\n",
        "#Escalar los datos\n",
        "X_train=X_train/255\n",
        "X_test=X_test/255\n",
        "\n",
        "#One hot coding para categorizar las variables\n",
        "Y_train=to_categorical(Y_train)\n",
        "Y_test=to_categorical(Y_test)"
      ],
      "metadata": {
        "id": "Nmr1Adp9jYXg"
      },
      "execution_count": null,
      "outputs": []
    },
    {
      "cell_type": "code",
      "source": [
        "model = Sequential()\n",
        "#model.add(Flatten())\n",
        "model.add(Conv2D(filters=16, kernel_size=3, activation='relu', input_shape=(28, 28, 1)))\n",
        "model.add(MaxPooling2D())\n",
        "model.add(Conv2D(filters=32, kernel_size=3, activation='relu'))\n",
        "model.add(MaxPooling2D())\n",
        "model.add(Conv2D(filters=64, kernel_size=3, activation='relu'))\n",
        "model.add(MaxPooling2D())\n",
        "model.add(Flatten())\n",
        "model.add(Dense(units=10, activation='softmax')) \n",
        "\n",
        "# ---- CONFIGURACIÓN DEL MODELO ---- #\n",
        "model.compile(optimizer=SGD(learning_rate=0.5), \n",
        "              loss=\"mse\",\n",
        "              metrics=[\"acc\"])\n",
        "\n",
        "# ---- EARLYSTOPPING ---- #\n",
        "early_stop = EarlyStopping(monitor=\"val_acc\", patience=3)\n",
        "\n",
        "\n",
        "# ---- ENTRENAMIENTO DEL MODELO ---- #\n",
        "model.fit(X_train, Y_train,\n",
        "                 validation_data=(X_test, Y_test),\n",
        "                 batch_size=8, callbacks=[early_stop], epochs=20)"
      ],
      "metadata": {
        "id": "WGjjHQphjjHO"
      },
      "execution_count": null,
      "outputs": []
    },
    {
      "cell_type": "code",
      "source": [
        "# Generador de traslación\n",
        "shift_test_gen = ImageDataGenerator(width_shift_range =0.25,\n",
        "                                    height_shift_range=0.25).flow(X_test.reshape(-1, 28, 28, 1), Y_test)\n",
        "\n",
        "# Generador de rotación.\n",
        "rotat_test_gen = ImageDataGenerator(rotation_range=90).flow(X_test.reshape(-1, 28, 28, 1), Y_test)\n",
        "\n",
        "# Generador de brillo.\n",
        "bright_test_gen = ImageDataGenerator(brightness_range=(0.1,0.40)).flow(X_test.reshape(-1, 28, 28, 1), Y_test)"
      ],
      "metadata": {
        "id": "vALiQMGKj4dl"
      },
      "execution_count": null,
      "outputs": []
    },
    {
      "cell_type": "code",
      "source": [
        "# Recibo imágenes del generador.\n",
        "batchX, batchY = next(bright_test_gen)\n",
        "\n",
        "# Visualizamos las imágenes.\n",
        "idx = 2\n",
        "plt.matshow(batchX[idx, :, :, 0])\n",
        "plt.xticks([])\n",
        "plt.yticks([])\n",
        "plt.title(\"Etiqueta: \" + str(np.argmax(batchY[idx])))\n",
        "plt.show()"
      ],
      "metadata": {
        "id": "-IAjZ5quj5un"
      },
      "execution_count": null,
      "outputs": []
    },
    {
      "cell_type": "code",
      "source": [
        "print('Traslación:', model.evaluate(shift_test_gen))\n",
        "print('--------------')\n",
        "print('Rotación:',   model.evaluate(rotat_test_gen))\n",
        "print('--------------')\n",
        "print('Brillo 10-40%:',  model.evaluate(bright_test_gen))"
      ],
      "metadata": {
        "id": "Kc1dhF7mj94q"
      },
      "execution_count": null,
      "outputs": []
    },
    {
      "cell_type": "code",
      "source": [
        "\n",
        "# Generador de imagenes de entrenamiento con perturbaciones.\n",
        "augmentated_train_data = ImageDataGenerator(rescale=1./255,\n",
        "                                            width_shift_range =0.15,\n",
        "                                            height_shift_range=0.15,\n",
        "                                            rotation_range=50,\n",
        "                                            brightness_range=(0.1,0.4)).flow(X_train.reshape(-1, 28, 28, 1), to_categorical(Y_train))\n",
        "\n",
        "\n",
        "# Generador de imagenes de prueba con perturbaciones.\n",
        "augmentated_test_data = ImageDataGenerator(rescale=1./255,\n",
        "                                           width_shift_range =0.15,\n",
        "                                           height_shift_range=0.15,\n",
        "                                           rotation_range=50,\n",
        "                                           brightness_range=(0.1,0.4)).flow(X_test.reshape(-1, 28, 28, 1), to_categorical(Y_test))\n",
        "                                            "
      ],
      "metadata": {
        "id": "5BdHD5zpkATt"
      },
      "execution_count": null,
      "outputs": []
    },
    {
      "cell_type": "code",
      "source": [
        "# Compilamos y configuramos al modelo.\n",
        "model.compile(optimizer=SGD(learning_rate=0.1),\n",
        "              loss=\"mse\",\n",
        "              metrics=[\"acc\"])\n"
      ],
      "metadata": {
        "id": "G1B-3AoKkMcb"
      },
      "execution_count": null,
      "outputs": []
    },
    {
      "cell_type": "code",
      "source": [
        "# Entrenamos al modelo.\n",
        "model.fit(augmentated_train_data, validation_data=augmentated_test_data, callbacks=[early_stop], epochs=50)"
      ],
      "metadata": {
        "id": "e4DnVuUSkOk-"
      },
      "execution_count": null,
      "outputs": []
    }
  ],
  "metadata": {
    "accelerator": "GPU",
    "colab": {
      "collapsed_sections": [],
      "name": "M12-Prácticas_1-2-3-José_Saviñón",
      "provenance": []
    },
    "kernelspec": {
      "display_name": "Python 3",
      "name": "python3"
    }
  },
  "nbformat": 4,
  "nbformat_minor": 0
}