{
  "nbformat": 4,
  "nbformat_minor": 0,
  "metadata": {
    "colab": {
      "name": "Copia de M15 Prácticas 1, 2 y 3-José Saviñón",
      "provenance": [],
      "collapsed_sections": [],
      "toc_visible": true
    },
    "kernelspec": {
      "name": "python3",
      "display_name": "Python 3"
    },
    "accelerator": "GPU"
  },
  "cells": [
    {
      "cell_type": "markdown",
      "metadata": {
        "id": "SoGANzaqvtXU"
      },
      "source": [
        "# Conditioning to classes\n",
        "\n",
        "En concreto deberás de crear una *red generativa condicionada* de la que puedas obtener imágenes para cada una de las clases del dataset. Una vez lo hayas entrenado, visualiza la generación de 3 imágenes de la clase RANA (🐸) y 3 imágenes de la clase CABALLO (🐎). **Dada la complejidad del dataset y la poca resolución de las imágenes es normal esperar imágenes donde se identifique claramente el objeto generado.**\n",
        "\n",
        "<br>\n",
        "<img src='https://miro.medium.com/max/424/1*0hHJfc0V_Km_AgKkP892fw.png'>\n",
        "<br>"
      ]
    },
    {
      "cell_type": "code",
      "metadata": {
        "id": "rkfN2qs8v2DI",
        "colab": {
          "base_uri": "https://localhost:8080/"
        },
        "outputId": "43ac6f78-02e6-4bf0-ca32-34ccc0ffc94f"
      },
      "source": [
        "import numpy as np\n",
        "import matplotlib.pyplot as plt\n",
        "\n",
        "import tensorflow as tf\n",
        "from tensorflow.keras.datasets.cifar10 import load_data\n",
        "from tensorflow.keras.utils import to_categorical\n",
        "from tensorflow.keras import Sequential\n",
        "from tensorflow.keras.layers import *\n",
        "\n",
        "# Cargamos el dataset CIFAR10 en un variable.\n",
        "(X_train, Y_train), (X_test, Y_test) = load_data()\n",
        "\n",
        "# Normalizamos el input.\n",
        "X_train = X_train / 255\n",
        "X_test  = X_test  / 255\n",
        "\n",
        "# Codificamos One-Hot el output.\n",
        "Y_train = to_categorical(Y_train)\n",
        "Y_test  = to_categorical(Y_test)\n"
      ],
      "execution_count": null,
      "outputs": [
        {
          "output_type": "stream",
          "name": "stdout",
          "text": [
            "Downloading data from https://www.cs.toronto.edu/~kriz/cifar-10-python.tar.gz\n",
            "170500096/170498071 [==============================] - 11s 0us/step\n",
            "170508288/170498071 [==============================] - 11s 0us/step\n"
          ]
        }
      ]
    },
    {
      "cell_type": "code",
      "source": [
        "# Nombre de las clases ordenadas por el índice correspondiente.\n",
        "class_names = [\"airplane\", \"automobile\", \"bird\", \"cat\", \"deer\", \"dog\", \"frog\", \"horse\", \"ship\", \"truck\"]"
      ],
      "metadata": {
        "id": "qinfmlezslfD"
      },
      "execution_count": null,
      "outputs": []
    },
    {
      "cell_type": "code",
      "source": [
        "# Seleccionamos un índice aleatorio.\n",
        "idx = np.random.randint(0, 5000)\n",
        "# Visualizamos una de las imágenes.\n",
        "plt.imshow(X_train[idx])\n",
        "plt.title(class_names[np.argmax(Y_train[idx])])\n",
        "plt.show()"
      ],
      "metadata": {
        "colab": {
          "base_uri": "https://localhost:8080/",
          "height": 281
        },
        "id": "Rx6qZf86sm0-",
        "outputId": "8caa27ef-a088-48b1-ba17-47ed21560cec"
      },
      "execution_count": null,
      "outputs": [
        {
          "output_type": "display_data",
          "data": {
            "text/plain": [
              "<Figure size 432x288 with 1 Axes>"
            ],
            "image/png": "[encoded data removed]"
          },
          "metadata": {
            "needs_background": "light"
          }
        }
      ]
    },
    {
      "cell_type": "code",
      "source": [
        "# CONSTRUCCIÓN DEL MODELO\n",
        "#Modelo del discriminador\n",
        "latent_dim  = 128\n",
        "image_size  = 32\n",
        "num_classes = 10\n",
        "\n",
        "def get_discriminator():\n",
        "  #Creamos el discriminador\n",
        "  discriminator = Sequential(name = \"discriminator\")\n",
        "\n",
        "  discriminator.add(Input(shape=(image_size, image_size, 3 + num_classes)))\n",
        "\n",
        "  discriminator.add(Conv2D(64, kernel_size=4, strides=2, padding=\"same\"))\n",
        "  discriminator.add(BatchNormalization())\n",
        "  discriminator.add(LeakyReLU(alpha=0.2))\n",
        "  \n",
        "  discriminator.add(Conv2D(128, kernel_size=4))\n",
        "  discriminator.add(BatchNormalization())\n",
        "  discriminator.add(LeakyReLU(alpha=0.2))\n",
        "  \n",
        "  discriminator.add(Conv2D(128, kernel_size=4))\n",
        "  discriminator.add(BatchNormalization())\n",
        "  discriminator.add(LeakyReLU(alpha=0.2))\n",
        "  \n",
        "  discriminator.add(GlobalMaxPooling2D())\n",
        "  discriminator.add(Dense(1, activation=\"sigmoid\"))\n",
        "\n",
        "  discriminator.summary()\n",
        "  return discriminator\n",
        "\n",
        "get_discriminator()"
      ],
      "metadata": {
        "colab": {
          "base_uri": "https://localhost:8080/"
        },
        "id": "94nNabKlsoJx",
        "outputId": "f7c52700-64ed-4c8a-cda4-5e285d71e0c7"
      },
      "execution_count": null,
      "outputs": [
        {
          "output_type": "stream",
          "name": "stdout",
          "text": [
            "Model: \"discriminator\"\n",
            "_________________________________________________________________\n",
            " Layer (type)                Output Shape              Param #   \n",
            "=================================================================\n",
            " conv2d_94 (Conv2D)          (None, 16, 16, 64)        13376     \n",
            "                                                                 \n",
            " batch_normalization_94 (Bat  (None, 16, 16, 64)       256       \n",
            " chNormalization)                                                \n",
            "                                                                 \n",
            " leaky_re_lu (LeakyReLU)     (None, 16, 16, 64)        0         \n",
            "                                                                 \n",
            " conv2d_95 (Conv2D)          (None, 13, 13, 128)       131200    \n",
            "                                                                 \n",
            " batch_normalization_95 (Bat  (None, 13, 13, 128)      512       \n",
            " chNormalization)                                                \n",
            "                                                                 \n",
            " leaky_re_lu_1 (LeakyReLU)   (None, 13, 13, 128)       0         \n",
            "                                                                 \n",
            " conv2d_96 (Conv2D)          (None, 10, 10, 128)       262272    \n",
            "                                                                 \n",
            " batch_normalization_96 (Bat  (None, 10, 10, 128)      512       \n",
            " chNormalization)                                                \n",
            "                                                                 \n",
            " leaky_re_lu_2 (LeakyReLU)   (None, 10, 10, 128)       0         \n",
            "                                                                 \n",
            " global_max_pooling2d (Globa  (None, 128)              0         \n",
            " lMaxPooling2D)                                                  \n",
            "                                                                 \n",
            " dense (Dense)               (None, 1)                 129       \n",
            "                                                                 \n",
            "=================================================================\n",
            "Total params: 408,257\n",
            "Trainable params: 407,617\n",
            "Non-trainable params: 640\n",
            "_________________________________________________________________\n"
          ]
        },
        {
          "output_type": "execute_result",
          "data": {
            "text/plain": [
              "<keras.engine.sequential.Sequential at 0x7fe3f5570a50>"
            ]
          },
          "metadata": {},
          "execution_count": 14
        }
      ]
    },
    {
      "cell_type": "code",
      "source": [
        "#Modelo del generador\n",
        "\n",
        "\n",
        "def get_generator(latent_dim=128):\n",
        "\n",
        "  generator = Sequential(name=\"generator\")\n",
        "  \n",
        "  # 💡 >>> Ahora el input recibe el vector latente y el\n",
        "  #        vector One-hot concatenado.\n",
        "  generator.add(Input(shape=(latent_dim + num_classes)))\n",
        "  \n",
        "  generator.add(Dense(2 * 2 * latent_dim))\n",
        "  generator.add(Reshape((2, 2, latent_dim)))\n",
        "\n",
        "  generator.add(Conv2DTranspose(128, kernel_size=4, strides=4))\n",
        "  generator.add(BatchNormalization())\n",
        "  generator.add(LeakyReLU(alpha=0.2))\n",
        "\n",
        "  generator.add(Conv2DTranspose(512, kernel_size=4, strides=4, padding=\"valid\"))\n",
        "  generator.add(BatchNormalization())\n",
        "  generator.add(LeakyReLU(alpha=0.2))\n",
        "  \n",
        "  generator.add(Conv2D(3, kernel_size=5, padding=\"same\", activation=\"sigmoid\"))\n",
        "\n",
        "  generator.summary()\n",
        "  return generator\n",
        "\n",
        "get_generator()"
      ],
      "metadata": {
        "colab": {
          "base_uri": "https://localhost:8080/"
        },
        "id": "nVAkoxfwspst",
        "outputId": "29b03221-6299-4240-c235-c0bd0927a165"
      },
      "execution_count": null,
      "outputs": [
        {
          "output_type": "stream",
          "name": "stdout",
          "text": [
            "Model: \"generator\"\n",
            "_________________________________________________________________\n",
            " Layer (type)                Output Shape              Param #   \n",
            "=================================================================\n",
            " dense_1 (Dense)             (None, 512)               71168     \n",
            "                                                                 \n",
            " reshape (Reshape)           (None, 2, 2, 128)         0         \n",
            "                                                                 \n",
            " conv2d_transpose (Conv2DTra  (None, 8, 8, 128)        262272    \n",
            " nspose)                                                         \n",
            "                                                                 \n",
            " batch_normalization_97 (Bat  (None, 8, 8, 128)        512       \n",
            " chNormalization)                                                \n",
            "                                                                 \n",
            " leaky_re_lu_3 (LeakyReLU)   (None, 8, 8, 128)         0         \n",
            "                                                                 \n",
            " conv2d_transpose_1 (Conv2DT  (None, 32, 32, 512)      1049088   \n",
            " ranspose)                                                       \n",
            "                                                                 \n",
            " batch_normalization_98 (Bat  (None, 32, 32, 512)      2048      \n",
            " chNormalization)                                                \n",
            "                                                                 \n",
            " leaky_re_lu_4 (LeakyReLU)   (None, 32, 32, 512)       0         \n",
            "                                                                 \n",
            " conv2d_97 (Conv2D)          (None, 32, 32, 3)         38403     \n",
            "                                                                 \n",
            "=================================================================\n",
            "Total params: 1,423,491\n",
            "Trainable params: 1,422,211\n",
            "Non-trainable params: 1,280\n",
            "_________________________________________________________________\n"
          ]
        },
        {
          "output_type": "execute_result",
          "data": {
            "text/plain": [
              "<keras.engine.sequential.Sequential at 0x7fe3f5094d90>"
            ]
          },
          "metadata": {},
          "execution_count": 15
        }
      ]
    },
    {
      "cell_type": "code",
      "source": [
        "class GAN(tf.keras.Model):\n",
        "\n",
        "  def __init__(self, discriminator, generator, latent_dim):\n",
        "      super(GAN, self).__init__()\n",
        "      # Guardamos el discriminador y el generador.\n",
        "      self.discriminator = discriminator\n",
        "      self.generator     = generator\n",
        "      self.latent_dim    = latent_dim\n",
        "\n",
        "  def compile(self, d_optimizer, g_optimizer, loss_fn):\n",
        "    super(GAN, self).compile(d_optimizer, g_optimizer, loss_fn)\n",
        "    self.d_optimizer = d_optimizer\n",
        "    self.g_optimizer = g_optimizer\n",
        "    self.loss_fn = loss_fn\n",
        "  \n",
        "  def train_step(self, data):\n",
        "\n",
        "    # 💡 >>> Ahora los datos son el input y las etiquetas.\n",
        "    real_images, one_hot_labels = data\n",
        "\n",
        "    # 💡 >>> Formateamos el vector One-hot a tamaño de imagen.\n",
        "    image_one_hot_labels = one_hot_labels[:, :, None, None]\n",
        "    image_one_hot_labels = tf.repeat(image_one_hot_labels, repeats=[image_size * image_size])\n",
        "    image_one_hot_labels = tf.reshape(image_one_hot_labels, (-1, image_size, image_size, num_classes))\n",
        "\n",
        "    # ----------- ENTRENAMIENTO DEL DETECTOR ------------- #\n",
        "\n",
        "    # Tamaño del lote.\n",
        "    batch_size = tf.shape(real_images)[0]\n",
        "\n",
        "    # Generamos vectores aleatorios como input de la red generadora.\n",
        "    random_latent_vectors = tf.random.normal(shape=(batch_size, self.latent_dim))\n",
        "\n",
        "     # 💡 >>> Añadimos la info de la clase a los vectores de entrada del generador.\n",
        "    random_latent_vectors = tf.concat([random_latent_vectors, one_hot_labels], axis=1)\n",
        "\n",
        "    # Usamos los vectores para generar imágenes aleatorias. (Decodificamos)\n",
        "    fake_images = self.generator(random_latent_vectors)\n",
        "\n",
        "    # 💡 >>> Añadimos la info de la clase a las imágenes de entrada del decodificador.\n",
        "    fake_image_and_labels = tf.concat([fake_images, image_one_hot_labels], -1)\n",
        "    real_image_and_labels = tf.concat([real_images, image_one_hot_labels], -1)\n",
        "\n",
        "    # Las concatenamos al set de imágenes reales.\n",
        "    combined_images = tf.concat([real_image_and_labels, fake_image_and_labels], axis=0)\n",
        "\n",
        "    # Generamos el output para cada imagen (Real: 1 / Fake: 0)\n",
        "    labels = tf.concat([tf.ones((batch_size, 1)), tf.zeros((batch_size, 1))], axis=0)\n",
        "\n",
        "    # Add random noise to the labels - important trick!\n",
        "    labels += 0.05 * tf.random.uniform(tf.shape(labels))\n",
        "\n",
        "    with tf.GradientTape() as tape:\n",
        "\n",
        "      # Predicciones hechas por el discrminador.\n",
        "      predictions = self.discriminator(combined_images)\n",
        "\n",
        "      # Evaluamos con la función de coste los resultados del discriminador.\n",
        "      d_loss = self.loss_fn(labels, predictions)\n",
        "\n",
        "    # Calculamos el gradiente con el error del discriminador.\n",
        "    grads = tape.gradient(d_loss, self.discriminator.trainable_weights)\n",
        "\n",
        "    # Actualizamos los parámetros con los gradientes.\n",
        "    self.d_optimizer.apply_gradients(\n",
        "          zip(grads, self.discriminator.trainable_weights)\n",
        "    )\n",
        "\n",
        "    # ----------- ENTRENAMIENTO DEL GENERADOR ------------- #\n",
        "\n",
        "    # Creamos nuevos vectores para generar imágenes aleatorias. (Decodificamos)\n",
        "    random_latent_vectors = tf.random.normal(shape=(batch_size, self.latent_dim))\n",
        "\n",
        "    # Creamos las etiquetas con las que supervisar el entrenamiento del generador.\n",
        "    misleading_labels = tf.ones((batch_size, 1))\n",
        "\n",
        "    # Entrenamos al generador SIN actualizar al detector!\n",
        "    with tf.GradientTape() as tape:\n",
        "\n",
        "      # 💡 >>> Añadimos la info de la clase a los vectores de entrada del generador.\n",
        "      random_latent_vectors = tf.concat([random_latent_vectors, one_hot_labels], axis=1)\n",
        "\n",
        "      # 💡 >>> Generamos y añadimos la info de las clases.\n",
        "      fake_images = self.generator(random_latent_vectors)\n",
        "      fake_image_and_labels = tf.concat([fake_images, image_one_hot_labels], -1)\n",
        "\n",
        "      # Obtenemos nuevas predicciones pasándole al discriminador lo generado.\n",
        "      predictions = self.discriminator(fake_image_and_labels)\n",
        "\n",
        "      # Calculamos el error del generador en su tarea de confundir al discriminador.\n",
        "      g_loss = self.loss_fn(misleading_labels, predictions)\n",
        "\n",
        "    # Calculamos el gradiente del generador.\n",
        "    grads = tape.gradient(g_loss, self.generator.trainable_weights)\n",
        "\n",
        "    # Actualizamos los parámetros con los gradientes.\n",
        "    self.g_optimizer.apply_gradients(zip(grads, self.generator.trainable_weights))\n",
        "\n",
        "    return {}"
      ],
      "metadata": {
        "id": "HRAS1aqXsrO3"
      },
      "execution_count": null,
      "outputs": []
    },
    {
      "cell_type": "code",
      "source": [
        "from tensorflow.keras.preprocessing.image import ImageDataGenerator\n",
        "# 💡 >>> Generamos el ImageDataGenerator.\n",
        "train_gen = ImageDataGenerator().flow(X_train.reshape(-1, 32, 32, 3), Y_train)"
      ],
      "metadata": {
        "id": "u7-3DaVfss8R"
      },
      "execution_count": null,
      "outputs": []
    },
    {
      "cell_type": "code",
      "source": [
        "from tensorflow.keras.callbacks import Callback\n",
        "\n",
        "# 💡 >>> Creamos un callback personalizado para visualizar la evolución\n",
        "# del generador tras cada época.\n",
        "class GANMonitor1(Callback):\n",
        "\n",
        "    def on_epoch_end(self, epoch, logs=None):\n",
        "\n",
        "        random_latent_vectors = tf.random.normal(shape=(3, self.model.latent_dim))\n",
        "        # Generamos siempre vectores d la clase frog.\n",
        "        one_hot_vectors1 = tf.reshape(tf.repeat(to_categorical(6, num_classes=10)[None,:], repeats=3, axis=0), (3, num_classes))\n",
        "       \n",
        "        generated_image = self.model.generator(tf.concat([random_latent_vectors, one_hot_vectors1], axis=1))\n",
        "\n",
        "        fig, axs = plt.subplots(1, 3)\n",
        "\n",
        "        for i in range(3):\n",
        "          if generated_image.shape[3] > 1:\n",
        "            fig.axes[i].imshow(generated_image[i,:,:,:])\n",
        "            fig.axes[i].axis(\"off\")\n",
        "          else:\n",
        "            fig.axes[i].matshow(generated_image[i,:,:,0])\n",
        "            fig.axes[i].axis(\"off\")\n",
        "\n",
        "        plt.show()\n",
        "\n",
        "class GANMonitor2(Callback):\n",
        "\n",
        "    def on_epoch_end(self, epoch, logs=None):\n",
        "\n",
        "        random_latent_vectors = tf.random.normal(shape=(3, self.model.latent_dim))\n",
        "        # Generamos siempre vectores de la clase horse.\n",
        "        one_hot_vectors1 = tf.reshape(tf.repeat(to_categorical(7, num_classes=10)[None,:], repeats=3, axis=0), (3, num_classes))\n",
        "       \n",
        "        generated_image = self.model.generator(tf.concat([random_latent_vectors, one_hot_vectors1], axis=1))\n",
        "\n",
        "        fig, axs = plt.subplots(1, 3)\n",
        "\n",
        "        for i in range(3):\n",
        "          if generated_image.shape[3] > 1:\n",
        "            fig.axes[i].imshow(generated_image[i,:,:,:])\n",
        "            fig.axes[i].axis(\"off\")\n",
        "          else:\n",
        "            fig.axes[i].matshow(generated_image[i,:,:,0])\n",
        "            fig.axes[i].axis(\"off\")\n",
        "\n",
        "        plt.show()"
      ],
      "metadata": {
        "id": "qyu6cOqIsuLL"
      },
      "execution_count": null,
      "outputs": []
    },
    {
      "cell_type": "code",
      "source": [
        "from tensorflow.keras.optimizers import *\n",
        "from tensorflow.keras.losses import *\n",
        "\n",
        "# Creamos una GAN con nuestra clase.\n",
        "gan = GAN(discriminator=get_discriminator(), generator=get_generator(), latent_dim=latent_dim)\n",
        "\n",
        "# Configuramos los optimizadores de cada parte...\n",
        "gan.compile(d_optimizer=Adam(learning_rate=0.0005),\n",
        "            g_optimizer=Adam(learning_rate=0.0005),\n",
        "            loss_fn=BinaryCrossentropy())\n",
        "\n"
      ],
      "metadata": {
        "colab": {
          "base_uri": "https://localhost:8080/"
        },
        "id": "LyVPFOOTsveo",
        "outputId": "10e401de-bc4a-4805-d95f-a28f623c6a80"
      },
      "execution_count": null,
      "outputs": [
        {
          "output_type": "stream",
          "name": "stdout",
          "text": [
            "Model: \"discriminator\"\n",
            "_________________________________________________________________\n",
            " Layer (type)                Output Shape              Param #   \n",
            "=================================================================\n",
            " conv2d_98 (Conv2D)          (None, 16, 16, 64)        13376     \n",
            "                                                                 \n",
            " batch_normalization_99 (Bat  (None, 16, 16, 64)       256       \n",
            " chNormalization)                                                \n",
            "                                                                 \n",
            " leaky_re_lu_5 (LeakyReLU)   (None, 16, 16, 64)        0         \n",
            "                                                                 \n",
            " conv2d_99 (Conv2D)          (None, 13, 13, 128)       131200    \n",
            "                                                                 \n",
            " batch_normalization_100 (Ba  (None, 13, 13, 128)      512       \n",
            " tchNormalization)                                               \n",
            "                                                                 \n",
            " leaky_re_lu_6 (LeakyReLU)   (None, 13, 13, 128)       0         \n",
            "                                                                 \n",
            " conv2d_100 (Conv2D)         (None, 10, 10, 128)       262272    \n",
            "                                                                 \n",
            " batch_normalization_101 (Ba  (None, 10, 10, 128)      512       \n",
            " tchNormalization)                                               \n",
            "                                                                 \n",
            " leaky_re_lu_7 (LeakyReLU)   (None, 10, 10, 128)       0         \n",
            "                                                                 \n",
            " global_max_pooling2d_1 (Glo  (None, 128)              0         \n",
            " balMaxPooling2D)                                                \n",
            "                                                                 \n",
            " dense_2 (Dense)             (None, 1)                 129       \n",
            "                                                                 \n",
            "=================================================================\n",
            "Total params: 408,257\n",
            "Trainable params: 407,617\n",
            "Non-trainable params: 640\n",
            "_________________________________________________________________\n",
            "Model: \"generator\"\n",
            "_________________________________________________________________\n",
            " Layer (type)                Output Shape              Param #   \n",
            "=================================================================\n",
            " dense_3 (Dense)             (None, 512)               71168     \n",
            "                                                                 \n",
            " reshape_1 (Reshape)         (None, 2, 2, 128)         0         \n",
            "                                                                 \n",
            " conv2d_transpose_2 (Conv2DT  (None, 8, 8, 128)        262272    \n",
            " ranspose)                                                       \n",
            "                                                                 \n",
            " batch_normalization_102 (Ba  (None, 8, 8, 128)        512       \n",
            " tchNormalization)                                               \n",
            "                                                                 \n",
            " leaky_re_lu_8 (LeakyReLU)   (None, 8, 8, 128)         0         \n",
            "                                                                 \n",
            " conv2d_transpose_3 (Conv2DT  (None, 32, 32, 512)      1049088   \n",
            " ranspose)                                                       \n",
            "                                                                 \n",
            " batch_normalization_103 (Ba  (None, 32, 32, 512)      2048      \n",
            " tchNormalization)                                               \n",
            "                                                                 \n",
            " leaky_re_lu_9 (LeakyReLU)   (None, 32, 32, 512)       0         \n",
            "                                                                 \n",
            " conv2d_101 (Conv2D)         (None, 32, 32, 3)         38403     \n",
            "                                                                 \n",
            "=================================================================\n",
            "Total params: 1,423,491\n",
            "Trainable params: 1,422,211\n",
            "Non-trainable params: 1,280\n",
            "_________________________________________________________________\n"
          ]
        }
      ]
    },
    {
      "cell_type": "code",
      "source": [
        "gan.fit(train_gen, epochs=1000, batch_size = 8, callbacks=[GANMonitor1(), GANMonitor2()], steps_per_epoch=100)"
      ],
      "metadata": {
        "colab": {
          "base_uri": "https://localhost:8080/",
          "height": 1000
        },
        "id": "wkqg38GFsx8v",
        "outputId": "39ad8086-dc6e-4a70-9c6e-36596fbf17c1"
      },
      "execution_count": null,
      "outputs": []
    }
  ]
}