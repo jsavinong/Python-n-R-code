{
  "nbformat": 4,
  "nbformat_minor": 0,
  "metadata": {
    "colab": {
      "name": "SaviñónGarcía_JoséÁngel_código2.ipynb",
      "provenance": [],
      "toc_visible": true
    },
    "kernelspec": {
      "name": "python3",
      "display_name": "Python 3"
    },
    "language_info": {
      "name": "python"
    }
  },
  "cells": [
    {
      "cell_type": "markdown",
      "source": [
        "##**Código documentado**"
      ],
      "metadata": {
        "id": "YWiXeTUfgTAd"
      }
    },
    {
      "cell_type": "code",
      "source": [
        "#Importamos las librerías a utilizar\n",
        "from google.colab import drive\n",
        "import pandas as pd\n",
        "import numpy as np\n",
        "from sklearn.feature_extraction.text import CountVectorizer\n",
        "from sklearn.metrics.pairwise import cosine_similarity\n",
        "import random\n",
        "\n",
        "#Solicitamos permisos y montamos la carpeta de Google Drive  \n",
        "drive.mount('/content/drive')\n",
        "\n",
        "#Establecemos un máximo fijo en el ancho de las columnas\n",
        "pd.options.display.max_colwidth = 150\n",
        "\n",
        "#Leemos el archivo\n",
        "key_df = pd.read_csv('/content/drive/MyDrive/Colab Notebooks/M8/DataSets/datos_ejercicios/movies_etiquetado.csv')\n",
        "\n",
        "#Pasamos las etiquetas de filas a un array en una columna\n",
        "key_df=key_df.groupby(['imdb_title','imdb_id'])['tag'].apply(list).reset_index(name='etiquetas')\n",
        "\n",
        "#Definimos una función para eliminar espacios en blanco y colocar todo en minúsculas\n",
        "def limpiar(x):\n",
        "    if isinstance(x, list):\n",
        "        return [str.lower(i.replace(\" \", \"\")) for i in x]\n",
        "    else:\n",
        "        if isinstance(x, str):\n",
        "            return str.lower(x.replace(\" \", \"\"))\n",
        "        else:\n",
        "            return ''\n",
        "\n",
        "#Aplicamos la función limpiar a la columna \"etiquetas\"\n",
        "key_df['etiquetas'] = key_df['etiquetas'].apply(limpiar)\n",
        "\n",
        "#Definimos una función que convertirá a texto el contenido de la columna \"etiquetas\"\n",
        "def juntar(x):\n",
        "    return ' '.join(x['etiquetas'])\n",
        "\n",
        "#Aplicamos la función a todas filas\n",
        "key_df['etiquetas'] = key_df.apply(juntar, axis=1)\n",
        "\n",
        "#Eliminamos las palabras comunes (stopwords) en la columna \"etiquetas\", especificamos el idioma\n",
        "count = CountVectorizer(stop_words='english')\n",
        "count_matrix = count.fit_transform(key_df['etiquetas'])\n",
        "\n",
        "#Calculamos la similitud coseno\n",
        "similitud_coseno = cosine_similarity(count_matrix, count_matrix)\n",
        "\n",
        "#Utilizamos el índice del título y el título de la película para crear una Serie para poder utilizarla en la función de recomendación\n",
        "indices = key_df.reset_index(drop=True)\n",
        "indices = pd.Series(indices.index, index=key_df['imdb_title'])\n",
        "\n",
        "#Definimos la función de recomendación\n",
        "def content_recommender(title, cosine_sim=similitud_coseno, df=key_df, indices=indices):\n",
        "    #Obtenemos el índice\n",
        "    id_ = indices[title]\n",
        "\n",
        "    #Filtramos por el índice y devolvemos una tupla con el index(enumerate)y el resultado de la similitud coseno\n",
        "    scores = list(enumerate(cosine_sim[id_]))\n",
        "\n",
        "    #Ordenamos en base a la similitud coseno\n",
        "    scores = sorted(scores, key=lambda x: x[1], reverse=True)\n",
        "\n",
        "    #Nos quedamos con los 6 primeros\n",
        "    scores = scores[1:6]\n",
        "\n",
        "    #Extraemos los índices\n",
        "    indices = [i[0] for i in scores]\n",
        "\n",
        "    #Devolvemos las 6 más similares\n",
        "    return df['imdb_title'].iloc[indices]\n",
        "\n",
        "\n",
        "\n"
      ],
      "metadata": {
        "id": "Z5AnAV60gRqg"
      },
      "execution_count": null,
      "outputs": []
    },
    {
      "cell_type": "code",
      "source": [
        "#Llamamos la función con la película \"Aladdin\" para ver los resultados \n",
        "content_recommender('Aladdin', similitud_coseno, key_df, indices)\n"
      ],
      "metadata": {
        "colab": {
          "base_uri": "https://localhost:8080/"
        },
        "id": "iVyaf-9NuSxR",
        "outputId": "5fbd8171-b9cc-4631-ac5a-a50dd30c9688"
      },
      "execution_count": 6,
      "outputs": [
        {
          "output_type": "execute_result",
          "data": {
            "text/plain": [
              "528       Train of Life\n",
              "430    The Indian Scarf\n",
              "316    Restless Natives\n",
              "356          Stir Crazy\n",
              "277    Of Human Bondage\n",
              "Name: imdb_title, dtype: object"
            ]
          },
          "metadata": {},
          "execution_count": 6
        }
      ]
    },
    {
      "cell_type": "code",
      "source": [
        "#Definimos una función de recomendación de películas aleatorias \n",
        "def content_recommender_random (df = key_df):\n",
        "    title = df['imdb_title'].iloc[random.randint(0,len(key_df))]\n",
        "    print (\"Estas son las recomendaciones para \" + title)\n",
        "    return (content_recommender(title, similitud_coseno,key_df,indices))\n",
        "\n",
        "#Llamamos a la función de películas aleatorias \n",
        "content_recommender_random()"
      ],
      "metadata": {
        "colab": {
          "base_uri": "https://localhost:8080/"
        },
        "id": "KzmIykHIuWBA",
        "outputId": "3d2185b4-e3bc-41fe-bcc3-efc0830c0458"
      },
      "execution_count": 34,
      "outputs": [
        {
          "output_type": "stream",
          "name": "stdout",
          "text": [
            "Estas son las recomendaciones para The End of Summer\n"
          ]
        },
        {
          "output_type": "execute_result",
          "data": {
            "text/plain": [
              "469          The Pawnshop\n",
              "528         Train of Life\n",
              "111    Death of a Cyclist\n",
              "383     The Bohemian Girl\n",
              "356            Stir Crazy\n",
              "Name: imdb_title, dtype: object"
            ]
          },
          "metadata": {},
          "execution_count": 34
        }
      ]
    },
    {
      "cell_type": "markdown",
      "source": [
        ""
      ],
      "metadata": {
        "id": "kgTaN1eIgRZO"
      }
    }
  ]
}